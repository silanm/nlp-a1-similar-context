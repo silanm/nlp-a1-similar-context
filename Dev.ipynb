{
 "cells": [
  {
   "cell_type": "markdown",
   "metadata": {},
   "source": [
    "# Setup"
   ]
  },
  {
   "cell_type": "code",
   "execution_count": 103,
   "metadata": {},
   "outputs": [],
   "source": [
    "import nltk\n",
    "from nltk.corpus import reuters\n",
    "\n",
    "import numpy as np\n",
    "import random\n",
    "import re\n",
    "import time\n",
    "\n",
    "import torch\n",
    "import torch.nn as nn\n",
    "import torch.optim as optim\n",
    "\n",
    "from scipy.stats import spearmanr\n",
    "from collections import Counter"
   ]
  },
  {
   "cell_type": "code",
   "execution_count": 104,
   "metadata": {},
   "outputs": [
    {
     "name": "stdout",
     "output_type": "stream",
     "text": [
      "Using device: cuda\n"
     ]
    }
   ],
   "source": [
    "# Detect the device for computation (CPU/GPU/Metal on Mac 💻)\n",
    "device = torch.device(\n",
    "    \"mps\" if torch.backends.mps.is_available() else (\"cuda\" if torch.cuda.is_available() else \"cpu\")\n",
    ")\n",
    "print(f\"Using device: {device}\")"
   ]
  },
  {
   "cell_type": "code",
   "execution_count": 105,
   "metadata": {},
   "outputs": [
    {
     "name": "stderr",
     "output_type": "stream",
     "text": [
      "[nltk_data] Downloading package reuters to /home/jupyter-\n",
      "[nltk_data]     st125127/nltk_data...\n",
      "[nltk_data]   Package reuters is already up-to-date!\n",
      "[nltk_data] Downloading package punkt to /home/jupyter-\n",
      "[nltk_data]     st125127/nltk_data...\n",
      "[nltk_data]   Package punkt is already up-to-date!\n"
     ]
    },
    {
     "data": {
      "text/plain": [
       "True"
      ]
     },
     "execution_count": 105,
     "metadata": {},
     "output_type": "execute_result"
    }
   ],
   "source": [
    "# Ensure required datasets are downloaded\n",
    "nltk.download(\"reuters\")\n",
    "nltk.download(\"punkt\")"
   ]
  },
  {
   "cell_type": "markdown",
   "metadata": {},
   "source": [
    "# Skip-gram Modeling"
   ]
  },
  {
   "cell_type": "code",
   "execution_count": 106,
   "metadata": {},
   "outputs": [
    {
     "name": "stdout",
     "output_type": "stream",
     "text": [
      "Sentences in the corpus: 500\n",
      "Words in the corpus: 62886\n"
     ]
    }
   ],
   "source": [
    "sample_size = 500\n",
    "# sample_size = len(reuters.fileids())\n",
    "\n",
    "def build_corpus():\n",
    "    corpus = []\n",
    "\n",
    "    for id in reuters.fileids()[:sample_size]:\n",
    "        sentences = reuters.words(id)\n",
    "        sentences = [sentence.lower() for sentence in sentences if sentence.isalpha()]\n",
    "        corpus.append(sentences)\n",
    "\n",
    "    return corpus\n",
    "\n",
    "\n",
    "corpus = build_corpus()\n",
    "print(f\"Sentences in the corpus: {len(corpus)}\")\n",
    "print(f\"Words in the corpus: {sum(len(sentence) for sentence in corpus)}\")"
   ]
  },
  {
   "cell_type": "code",
   "execution_count": 107,
   "metadata": {},
   "outputs": [
    {
     "name": "stdout",
     "output_type": "stream",
     "text": [
      "Unique words in the corpus: 6374\n"
     ]
    }
   ],
   "source": [
    "def build_vocab(corpus):\n",
    "    # Flatten words from all sentences\n",
    "    flatten_words = [word for sentence in corpus for word in sentence]\n",
    "    word_counts = Counter(flatten_words)\n",
    "\n",
    "    # Unique words\n",
    "    vocab = list(set(flatten_words))\n",
    "    vocab.append(\"<UNKNOWN>\")\n",
    "\n",
    "    word2index = {word: index for index, word in enumerate(vocab)}\n",
    "    word2index[\"<UNKNOWN>\"] = 0\n",
    "    word2index\n",
    "\n",
    "    return vocab, len(vocab), word2index, word_counts\n",
    "\n",
    "\n",
    "all_vocabs, vocab_size, word2index, word_counts = build_vocab(corpus)\n",
    "print(f\"Unique words in the corpus: {vocab_size}\")"
   ]
  },
  {
   "cell_type": "code",
   "execution_count": 108,
   "metadata": {},
   "outputs": [
    {
     "name": "stdout",
     "output_type": "stream",
     "text": [
      "Skip-gram pairs from corpus: 248544\n"
     ]
    }
   ],
   "source": [
    "def build_skipgrams(corpus, word2index, window_size=2):\n",
    "    \"\"\"\n",
    "    Generate skip-gram pairs from corpus\n",
    "    \"\"\"\n",
    "    skip_grams = []\n",
    "\n",
    "    for sentence in corpus:\n",
    "        for position, center_word in enumerate(sentence):\n",
    "            center_index = word2index[center_word]\n",
    "            context_indices = list(\n",
    "                [\n",
    "                    i\n",
    "                    for i in range(\n",
    "                        max(\n",
    "                            position - window_size, 0\n",
    "                        ),  # Context words on the left. If none, then 0\n",
    "                        min(\n",
    "                            position + window_size + 1, len(sentence)\n",
    "                        ),  # Context words on the right, If none, then 0\n",
    "                    )\n",
    "                    if i != position  # Exclude itself\n",
    "                ]\n",
    "            )\n",
    "            for index in context_indices:\n",
    "                context_word = sentence[index]\n",
    "                context_index = word2index[context_word]\n",
    "                skip_grams.append(\n",
    "                    (center_index, context_index)\n",
    "                )  # A tuple representing a skip-gram pair\n",
    "\n",
    "    return skip_grams\n",
    "\n",
    "\n",
    "skip_grams = build_skipgrams(corpus, word2index, window_size=2)\n",
    "print(f\"Skip-gram pairs from corpus: {len(skip_grams)}\")"
   ]
  },
  {
   "cell_type": "code",
   "execution_count": 109,
   "metadata": {},
   "outputs": [],
   "source": [
    "def build_unigram_table(word_counts, power=0.75):\n",
    "    total_count = sum([count for count in word_counts.values()])\n",
    "    unigram_table = []\n",
    "    for word, count in word_counts.items():\n",
    "        score = (count / total_count) ** power\n",
    "        unigram_table.extend([word] * int(score * 1e6))\n",
    "    return unigram_table\n",
    "\n",
    "\n",
    "unigram_table = build_unigram_table(word_counts)"
   ]
  },
  {
   "cell_type": "code",
   "execution_count": 110,
   "metadata": {},
   "outputs": [],
   "source": [
    "def to_number_sequence(all_vocabs, word2index):\n",
    "    \"\"\"\n",
    "    Convert a sequence of words into a sequence of numerical indices\n",
    "    \"\"\"\n",
    "    indices = list(\n",
    "        map(  # Apply lambda function to each word in all_vocabs\n",
    "            lambda w: word2index[w] if word2index.get(w) is not None else word2index[\"<UNKNOWN>\"],\n",
    "            all_vocabs,\n",
    "        )\n",
    "    )\n",
    "    return torch.LongTensor(indices).to(device)  # List of indices is converted to PyTorch tensor"
   ]
  },
  {
   "cell_type": "code",
   "execution_count": 111,
   "metadata": {},
   "outputs": [],
   "source": [
    "class Skipgram(nn.Module):  # nn.Module is the base class for all neural network modules in PyTorch\n",
    "\n",
    "    def __init__(self, vocab_size, embed_size, mode=\"softmax\"):\n",
    "        super(Skipgram, self).__init__()\n",
    "        self.mode = mode\n",
    "        self.embedding_v = nn.Embedding(vocab_size, embed_size)\n",
    "        self.embedding_u = nn.Embedding(vocab_size, embed_size)\n",
    "\n",
    "    def forward(self, center_words, target_words, all_vocabs, negative_vocabs=None):\n",
    "        # Create embedding vectors for center words, target words, and all words\n",
    "        center_embeds = self.embedding_v(center_words)\n",
    "        target_embeds = self.embedding_u(target_words)\n",
    "        all_embeds = self.embedding_u(all_vocabs)\n",
    "\n",
    "        if self.mode == \"softmax\":\n",
    "            # Dot product between the embeddings of the center word and the context word is computed.\n",
    "            # This measures how similar the center word is to the context word.\n",
    "            scores = target_embeds.bmm(center_embeds.transpose(1, 2)).squeeze(2)\n",
    "\n",
    "            # Dot product between the embeddings of the center word and all words in the vocabulary is computed.\n",
    "            # This is used to normalize the scores across the entire vocabulary (denominator in the softmax function).\n",
    "            norm_scores = all_embeds.bmm(center_embeds.transpose(1, 2)).squeeze(2)\n",
    "\n",
    "            # Negative log of the softmax probability is taken. This is the loss for a single prediction.\n",
    "            # The overall loss is the average of these values across all predictions in the batch.\n",
    "            negative_log_likelihood = (-1) * (\n",
    "                torch.mean(\n",
    "                    torch.log(torch.exp(scores) / torch.sum(torch.exp(norm_scores), 1).unsqueeze(1))\n",
    "                )\n",
    "            )\n",
    "        elif self.mode == \"negative_sampling\":\n",
    "            negative_log_likelihood = 0\n",
    "\n",
    "        return negative_log_likelihood\n",
    "\n",
    "    def get_embedding(self, word_index):\n",
    "        return self.embedding_v(torch.tensor([word_index], dtype=torch.long).to(device)).detach().cpu().numpy()\n",
    "        # return self.embedding_v(torch.LongTensor([word_index]).to(device)).detach().cpu().numpy()"
   ]
  },
  {
   "cell_type": "code",
   "execution_count": 112,
   "metadata": {
    "editable": true,
    "slideshow": {
     "slide_type": ""
    },
    "tags": []
   },
   "outputs": [],
   "source": [
    "# Hyperparameters\n",
    "batch_size = 128\n",
    "embed_size = 100\n",
    "epochs = 10\n",
    "\n",
    "def train_skipgrams(mode, skip_grams, all_vocabs, vocab_size):\n",
    "    if mode not in [\"softmax\", \"negative_sampling\"]:\n",
    "        raise ValueError(\"Invalid mode.\")\n",
    "\n",
    "\n",
    "    # Model and Optimizer\n",
    "    model = Skipgram(vocab_size=vocab_size, embed_size=embed_size, mode=mode).to(device)\n",
    "    optimizer = optim.Adam(model.parameters(), lr=0.001)\n",
    "\n",
    "    # Convert all_vocabs (list -> tensor) and expands it to match the batch size\n",
    "    all_vocabs = to_number_sequence(all_vocabs, word2index).expand(batch_size, vocab_size)\n",
    "\n",
    "    all_losses = []\n",
    "\n",
    "    # Training loop\n",
    "    for epoch in range(epochs):\n",
    "        epoch_loss = []  # Loss for each epoch\n",
    "        start_time = time.time()\n",
    "\n",
    "        # Shuffle the skip_grams every epoch\n",
    "        random.shuffle(skip_grams)\n",
    "\n",
    "        for i in range(0, len(skip_grams), batch_size):\n",
    "            current_batch = skip_grams[i : i + batch_size]\n",
    "\n",
    "            if len(current_batch) == 0:\n",
    "                continue\n",
    "\n",
    "            # Unpack current_batch by splitting into two variables\n",
    "            # center_words = all first elements from each pair\n",
    "            # target_words = all second elements from each pair\n",
    "            center_words, target_words = zip(*current_batch)\n",
    "\n",
    "            # Convert from tuples to 2D numpy arrays\n",
    "            center_words = np.array(center_words).reshape(-1, 1)\n",
    "            target_words = np.array(target_words).reshape(-1, 1)\n",
    "\n",
    "            # Convert from 2D numpy arrays to tensors\n",
    "            center_words = torch.LongTensor(center_words).to(device)\n",
    "            target_words = torch.LongTensor(target_words).to(device)\n",
    "\n",
    "            # RuntimeError: Expected size for first two dimensions of batch2 tensor to be: [128, 200] but got: [124, 200]\n",
    "            # Pad the batch if it's smaller than batch_size\n",
    "            if center_words.size(0) < batch_size:\n",
    "                padding_size = batch_size - center_words.size(0)\n",
    "                center_words = torch.cat(\n",
    "                    [center_words, torch.zeros(padding_size, 1, dtype=torch.long).to(device)], dim=0\n",
    "                ).to(device)\n",
    "                target_words = torch.cat(\n",
    "                    [target_words, torch.zeros(padding_size, 1, dtype=torch.long).to(device)], dim=0\n",
    "                ).to(device)\n",
    "\n",
    "            # Reset the gradients\n",
    "            optimizer.zero_grad()\n",
    "\n",
    "            if mode == \"softmax\":\n",
    "                # Computes the loss using model's forward method\n",
    "                loss = model(center_words, target_words, all_vocabs)\n",
    "                # Backpropagate the loss\n",
    "                loss.backward()\n",
    "                # Updates model parameters\n",
    "                optimizer.step()\n",
    "\n",
    "            # print(\n",
    "            #     f\"Epoch {epoch+1} | Batch {i+1}/{(len(skip_grams)+1)} | Center {center_words.size()} | Target {target_words.size()} | Loss {loss.item()}\"\n",
    "            # )\n",
    "\n",
    "            epoch_loss.append(loss.item())\n",
    "\n",
    "            elapsed_time = time.time() - start_time\n",
    "\n",
    "        print(f\"Epoch: {epoch+1:3d} | Loss: {np.mean(epoch_loss):5.5f} | Time: {elapsed_time:5.5f}\")\n",
    "        all_losses.append(np.mean(epoch_loss))\n",
    "\n",
    "    return model, np.mean(all_losses)"
   ]
  },
  {
   "cell_type": "code",
   "execution_count": 113,
   "metadata": {
    "editable": true,
    "slideshow": {
     "slide_type": ""
    },
    "tags": []
   },
   "outputs": [
    {
     "name": "stdout",
     "output_type": "stream",
     "text": [
      "Epoch:   1 | Loss: 24.69578 | Time: 10.72375\n",
      "Epoch:   2 | Loss: 16.49966 | Time: 10.70907\n",
      "Epoch:   3 | Loss: 12.73225 | Time: 10.72324\n",
      "Epoch:   4 | Loss: 10.45405 | Time: 10.74137\n",
      "Epoch:   5 | Loss: 8.99602 | Time: 10.73467\n",
      "Epoch:   6 | Loss: 8.01177 | Time: 10.79338\n",
      "Epoch:   7 | Loss: 7.31773 | Time: 10.86632\n",
      "Epoch:   8 | Loss: 6.81233 | Time: 10.85547\n",
      "Epoch:   9 | Loss: 6.43423 | Time: 10.73835\n",
      "Epoch:  10 | Loss: 6.14582 | Time: 10.73482\n"
     ]
    }
   ],
   "source": [
    "model_sm, avg_loss_sm = train_skipgrams(\n",
    "    mode=\"softmax\", skip_grams=skip_grams, all_vocabs=all_vocabs, vocab_size=len(all_vocabs)\n",
    ")"
   ]
  },
  {
   "cell_type": "code",
   "execution_count": 114,
   "metadata": {},
   "outputs": [
    {
     "name": "stdout",
     "output_type": "stream",
     "text": [
      "Model saved\n"
     ]
    }
   ],
   "source": [
    "model_skipgram_sm_path = f\"model_skipgram_sm_b{batch_size}_em{embed_size}_ep{epochs}.pth\"\n",
    "torch.save(model_sm.state_dict(), model_skipgram_sm_path)\n",
    "print(\"Model saved\")"
   ]
  },
  {
   "cell_type": "code",
   "execution_count": 115,
   "metadata": {},
   "outputs": [
    {
     "name": "stdout",
     "output_type": "stream",
     "text": [
      "Model loaded\n"
     ]
    }
   ],
   "source": [
    "model_path = f\"model_skipgram_sm_b{batch_size}_em{embed_size}_ep{epochs}.pth\"\n",
    "loaded_model_sm = Skipgram(vocab_size=len(all_vocabs), embed_size=100, mode=\"softmax\").to(device)\n",
    "loaded_model_sm.load_state_dict(torch.load(model_path, weights_only=True))\n",
    "print(\"Model loaded\")"
   ]
  },
  {
   "cell_type": "markdown",
   "metadata": {},
   "source": [
    "# Skip-gram Plotting\n"
   ]
  },
  {
   "cell_type": "code",
   "execution_count": 116,
   "metadata": {},
   "outputs": [
    {
     "data": {
      "image/png": "[encoded data removed]",
      "text/plain": [
       "<Figure size 600x300 with 1 Axes>"
      ]
     },
     "metadata": {},
     "output_type": "display_data"
    }
   ],
   "source": [
    "def get_embed(model, word):\n",
    "    id_tensor = torch.LongTensor([word2index[word]]).to(device)\n",
    "    v_embed = model_sm.embedding_v(id_tensor)\n",
    "    u_embed = model_sm.embedding_u(id_tensor)\n",
    "    word_embed = (v_embed + u_embed) / 2\n",
    "    x, y = word_embed[0][0].item(), word_embed[0][1].item()\n",
    "\n",
    "    return x, y\n",
    "\n",
    "\n",
    "import matplotlib.pyplot as plt\n",
    "\n",
    "plt.figure(figsize=(6, 3))\n",
    "for i, word in enumerate(all_vocabs[:20]):  # loop each unique vocab\n",
    "    x, y = get_embed(loaded_model, word)\n",
    "    plt.scatter(x, y)\n",
    "    plt.annotate(word, xy=(x, y), xytext=(5, 2), textcoords=\"offset points\")\n",
    "plt.show()"
   ]
  },
  {
   "cell_type": "markdown",
   "metadata": {},
   "source": [
    "# Skip-gram Analogies"
   ]
  },
  {
   "cell_type": "code",
   "execution_count": 124,
   "metadata": {},
   "outputs": [],
   "source": [
    "def evaluate_analogies(model, analogy_file, word2index):\n",
    "    semantic_correct = 0\n",
    "    semantic_total = 0\n",
    "    syntactic_correct = 0\n",
    "    syntactic_total = 0\n",
    "\n",
    "    index2word = {val: key for key, val in word2index.items()}\n",
    "\n",
    "    section = None\n",
    "\n",
    "    with open(analogy_file, \"r\") as f:\n",
    "        # Lines starting with \":\" indicate a new section\n",
    "        for line in f:\n",
    "            if line.startswith(\":\"):\n",
    "                section = line.strip()[1:].lower()\n",
    "                continue\n",
    "\n",
    "            words_in_line = line.strip().lower().split()  # Split each line into words\n",
    "            if all(\n",
    "                word in word2index for word in words_in_line\n",
    "            ):  # All words must be present in word2index\n",
    "                first_word, second_word, third_word, expected_word = words_in_line\n",
    "                first_word_emb = model.get_embedding(word2index[first_word])\n",
    "                second_word_vec = model.get_embedding(word2index[second_word])\n",
    "                third_word_vec = model.get_embedding(word2index[third_word])\n",
    "\n",
    "                # Finds the word in the vocabulary whose embedding is closest to the predicted vector\n",
    "                predicted_idx = np.argmax(\n",
    "                    np.dot(\n",
    "                        model.embedding_v.weight.detach().cpu().numpy(),\n",
    "                        (second_word_vec - first_word_emb + third_word_vec).T,\n",
    "                    )\n",
    "                )\n",
    "\n",
    "                # Retrieve word using predicted index\n",
    "                predicted_word = index2word[predicted_idx]\n",
    "\n",
    "                if section == \"capital-common-countries\":\n",
    "                    semantic_total += 1\n",
    "                    if predicted_word == expected_word:\n",
    "                        semantic_correct += 1\n",
    "\n",
    "                elif section == \"past-tense\":\n",
    "                    syntactic_total += 1\n",
    "                    if predicted_word == expected_word:\n",
    "                        syntactic_correct += 1\n",
    "\n",
    "    # Accuracy ratio\n",
    "    semantic_accuracy = semantic_correct / semantic_total if semantic_total > 0 else 0\n",
    "    syntactic_accuracy = syntactic_correct / syntactic_total if syntactic_total > 0 else 0\n",
    "\n",
    "    print(f\"Semantic Accuracy: {semantic_accuracy:.4f}\")\n",
    "    print(f\"Syntactic Accuracy: {syntactic_accuracy:.4f}\")\n",
    "\n",
    "    return semantic_accuracy, syntactic_accuracy"
   ]
  },
  {
   "cell_type": "code",
   "execution_count": 125,
   "metadata": {},
   "outputs": [
    {
     "name": "stdout",
     "output_type": "stream",
     "text": [
      "Semantic Accuracy: 0.0000\n",
      "Syntactic Accuracy: 0.0000\n"
     ]
    },
    {
     "data": {
      "text/plain": [
       "(0, 0)"
      ]
     },
     "execution_count": 125,
     "metadata": {},
     "output_type": "execute_result"
    }
   ],
   "source": [
    "analogy_file = \"word-test.v1.txt\"\n",
    "\n",
    "evaluate_analogies(loaded_model, analogy_file, word2index)"
   ]
  },
  {
   "cell_type": "markdown",
   "metadata": {},
   "source": [
    "# Skip-gram Similarities"
   ]
  },
  {
   "cell_type": "code",
   "execution_count": 119,
   "metadata": {},
   "outputs": [],
   "source": [
    "def evaluate_similarities(model, similarity_file, word2index):\n",
    "    \"\"\"Evaluate similarity correlation using Spearman correlation.\"\"\"\n",
    "    human_scores = []\n",
    "    model_scores = []\n",
    "\n",
    "    with open(similarity_file, \"r\") as f:\n",
    "        for line in f:\n",
    "            word1, word2, human_score = line.strip().split()\n",
    "            if word1 in word2index and word2 in word2index:\n",
    "                word1_vec = model.get_embedding(word2index[word1]).squeeze()\n",
    "                word2_vec = model.get_embedding(word2index[word2]).squeeze()\n",
    "\n",
    "                model_score = np.dot(word1_vec, word2_vec)\n",
    "                human_scores.append(float(human_score))\n",
    "                model_scores.append(model_score)\n",
    "\n",
    "    correlation, _ = spearmanr(human_scores, model_scores)\n",
    "    print(f\"Spearman Correlation: {correlation:.4f}\")\n",
    "\n",
    "    mse = np.mean((np.array(human_scores) - np.array(model_scores)) ** 2)\n",
    "\n",
    "    return human_scores, model_scores, correlation, mse"
   ]
  },
  {
   "cell_type": "code",
   "execution_count": 121,
   "metadata": {},
   "outputs": [
    {
     "name": "stdout",
     "output_type": "stream",
     "text": [
      "Spearman Correlation: -0.0482\n"
     ]
    },
    {
     "data": {
      "text/plain": [
       "([6.81,\n",
       "  9.15,\n",
       "  8.46,\n",
       "  8.94,\n",
       "  7.52,\n",
       "  8.42,\n",
       "  9.04,\n",
       "  5.85,\n",
       "  7.59,\n",
       "  7.56,\n",
       "  7.88,\n",
       "  5.0,\n",
       "  8.97,\n",
       "  6.44,\n",
       "  6.88,\n",
       "  7.63,\n",
       "  7.63,\n",
       "  7.78,\n",
       "  7.13,\n",
       "  7.89,\n",
       "  5.25,\n",
       "  5.56,\n",
       "  7.83,\n",
       "  4.97,\n",
       "  4.94,\n",
       "  4.75,\n",
       "  4.62,\n",
       "  4.59,\n",
       "  4.5,\n",
       "  4.47,\n",
       "  4.47,\n",
       "  4.47,\n",
       "  4.38,\n",
       "  4.25,\n",
       "  4.13,\n",
       "  4.06,\n",
       "  4.06,\n",
       "  3.97,\n",
       "  3.88,\n",
       "  3.88,\n",
       "  3.85,\n",
       "  3.73,\n",
       "  3.63,\n",
       "  3.56,\n",
       "  3.38,\n",
       "  3.38,\n",
       "  3.31,\n",
       "  3.31,\n",
       "  3.25,\n",
       "  3.16,\n",
       "  2.88,\n",
       "  2.75,\n",
       "  2.69,\n",
       "  2.25,\n",
       "  1.81,\n",
       "  1.81,\n",
       "  1.77,\n",
       "  1.75,\n",
       "  1.62,\n",
       "  0.92,\n",
       "  0.88],\n",
       " [np.float32(6.0188646),\n",
       "  np.float32(-3.305159),\n",
       "  np.float32(12.268101),\n",
       "  np.float32(11.493192),\n",
       "  np.float32(-10.971937),\n",
       "  np.float32(3.488648),\n",
       "  np.float32(2.1835344),\n",
       "  np.float32(3.1072528),\n",
       "  np.float32(0.95440775),\n",
       "  np.float32(-0.1466861),\n",
       "  np.float32(-0.34175628),\n",
       "  np.float32(1.9053909),\n",
       "  np.float32(-1.70675),\n",
       "  np.float32(2.289698),\n",
       "  np.float32(3.1254451),\n",
       "  np.float32(2.0590937),\n",
       "  np.float32(9.8953495),\n",
       "  np.float32(2.3309286),\n",
       "  np.float32(2.6030207),\n",
       "  np.float32(-9.201948),\n",
       "  np.float32(1.6116037),\n",
       "  np.float32(-2.2654064),\n",
       "  np.float32(8.473768),\n",
       "  np.float32(0.85274684),\n",
       "  np.float32(-2.4504995),\n",
       "  np.float32(1.2374704),\n",
       "  np.float32(-2.450547),\n",
       "  np.float32(1.181664),\n",
       "  np.float32(-0.06669499),\n",
       "  np.float32(-4.337345),\n",
       "  np.float32(6.5889363),\n",
       "  np.float32(6.2217402),\n",
       "  np.float32(2.9292982),\n",
       "  np.float32(1.6870397),\n",
       "  np.float32(-7.5021796),\n",
       "  np.float32(0.5901906),\n",
       "  np.float32(8.638955),\n",
       "  np.float32(7.05814),\n",
       "  np.float32(-2.056208),\n",
       "  np.float32(-2.8130713),\n",
       "  np.float32(-0.3843179),\n",
       "  np.float32(8.93672),\n",
       "  np.float32(2.99741),\n",
       "  np.float32(5.794365),\n",
       "  np.float32(0.7808479),\n",
       "  np.float32(2.0208483),\n",
       "  np.float32(2.9778948),\n",
       "  np.float32(-6.067364),\n",
       "  np.float32(8.767653),\n",
       "  np.float32(2.4472177),\n",
       "  np.float32(-0.13938129),\n",
       "  np.float32(-2.341461),\n",
       "  np.float32(9.763747),\n",
       "  np.float32(10.585002),\n",
       "  np.float32(-4.551045),\n",
       "  np.float32(3.636997),\n",
       "  np.float32(0.63518345),\n",
       "  np.float32(-0.46216458),\n",
       "  np.float32(2.1307383),\n",
       "  np.float32(4.701645),\n",
       "  np.float32(8.481208)],\n",
       " np.float64(-0.04818193880541745),\n",
       " np.float64(38.521901159301535))"
      ]
     },
     "execution_count": 121,
     "metadata": {},
     "output_type": "execute_result"
    }
   ],
   "source": [
    "similarity_file = \"wordsim_similarity_goldstandard.txt\"\n",
    "\n",
    "evaluate_similarities(loaded_model, similarity_file, word2index)"
   ]
  }
 ],
 "metadata": {
  "kernelspec": {
   "display_name": "nlp-a1",
   "language": "python",
   "name": "nlp-a1"
  },
  "language_info": {
   "codemirror_mode": {
    "name": "ipython",
    "version": 3
   },
   "file_extension": ".py",
   "mimetype": "text/x-python",
   "name": "python",
   "nbconvert_exporter": "python",
   "pygments_lexer": "ipython3",
   "version": "3.12.6"
  }
 },
 "nbformat": 4,
 "nbformat_minor": 4
}
