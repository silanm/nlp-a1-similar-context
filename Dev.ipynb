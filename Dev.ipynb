{
 "cells": [
  {
   "cell_type": "markdown",
   "metadata": {},
   "source": [
    "Predict the target words (context words) given the center word\n"
   ]
  },
  {
   "cell_type": "code",
   "metadata": {},
   "outputs": [],
   "source": [
    "import nltk\n",
    "from nltk.corpus import reuters\n",
    "\n",
    "import numpy as np\n",
    "import random\n",
    "import re\n",
    "import time\n",
    "\n",
    "import torch\n",
    "import torch.nn as nn\n",
    "import torch.optim as optim\n",
    "\n",
    "from scipy.stats import spearmanr\n",
    "from collections import Counter"
   ]
  },
  {
   "cell_type": "code",
   "execution_count": 127,
   "metadata": {},
   "outputs": [
    {
     "name": "stdout",
     "output_type": "stream",
     "text": [
      "Using device: mps\n"
     ]
    }
   ],
   "source": [
    "# Detect the device for computation (CPU/GPU/Metal on Mac 💻)\n",
    "device = torch.device(\n",
    "    \"mps\" if torch.backends.mps.is_available() else (\"cuda\" if torch.cuda.is_available() else \"cpu\")\n",
    ")\n",
    "print(f\"Using device: {device}\")"
   ]
  },
  {
   "cell_type": "code",
   "execution_count": null,
   "metadata": {},
   "outputs": [
    {
     "ename": "TypeError",
     "evalue": "'int' object is not iterable",
     "output_type": "error",
     "traceback": [
      "\u001b[0;31m---------------------------------------------------------------------------\u001b[0m",
      "\u001b[0;31mTypeError\u001b[0m                                 Traceback (most recent call last)",
      "Cell \u001b[0;32mIn[139], line 13\u001b[0m\n\u001b[1;32m      8\u001b[0m         corpus\u001b[38;5;241m.\u001b[39mappend(sentences)\n\u001b[1;32m     10\u001b[0m     \u001b[38;5;28;01mreturn\u001b[39;00m corpus\n\u001b[0;32m---> 13\u001b[0m corpus \u001b[38;5;241m=\u001b[39m \u001b[43mbuild_corpus\u001b[49m\u001b[43m(\u001b[49m\u001b[43m)\u001b[49m\n\u001b[1;32m     14\u001b[0m \u001b[38;5;28mprint\u001b[39m(\u001b[38;5;124mf\u001b[39m\u001b[38;5;124m\"\u001b[39m\u001b[38;5;124mTotal number of sentences in the corpus: \u001b[39m\u001b[38;5;132;01m{\u001b[39;00m\u001b[38;5;28mlen\u001b[39m(corpus)\u001b[38;5;132;01m}\u001b[39;00m\u001b[38;5;124m\"\u001b[39m)\n\u001b[1;32m     15\u001b[0m \u001b[38;5;28mprint\u001b[39m(\u001b[38;5;124mf\u001b[39m\u001b[38;5;124m\"\u001b[39m\u001b[38;5;124mTotal number of words in the corpus: \u001b[39m\u001b[38;5;132;01m{\u001b[39;00m\u001b[38;5;28msum\u001b[39m(\u001b[38;5;28mlen\u001b[39m(sentence)\u001b[38;5;250m \u001b[39m\u001b[38;5;28;01mfor\u001b[39;00m\u001b[38;5;250m \u001b[39msentence\u001b[38;5;250m \u001b[39m\u001b[38;5;129;01min\u001b[39;00m\u001b[38;5;250m \u001b[39mcorpus)\u001b[38;5;132;01m}\u001b[39;00m\u001b[38;5;124m\"\u001b[39m)\n",
      "Cell \u001b[0;32mIn[139], line 6\u001b[0m, in \u001b[0;36mbuild_corpus\u001b[0;34m()\u001b[0m\n\u001b[1;32m      4\u001b[0m \u001b[38;5;66;03m# for id in reuters.fileids(): # Everything\u001b[39;00m\n\u001b[1;32m      5\u001b[0m \u001b[38;5;28;01mfor\u001b[39;00m \u001b[38;5;28mid\u001b[39m \u001b[38;5;129;01min\u001b[39;00m random_indices:  \u001b[38;5;66;03m# Random 50 lines\u001b[39;00m\n\u001b[0;32m----> 6\u001b[0m     sentences \u001b[38;5;241m=\u001b[39m \u001b[43mreuters\u001b[49m\u001b[38;5;241;43m.\u001b[39;49m\u001b[43mwords\u001b[49m\u001b[43m(\u001b[49m\u001b[38;5;28;43mid\u001b[39;49m\u001b[43m)\u001b[49m\n\u001b[1;32m      7\u001b[0m     sentences \u001b[38;5;241m=\u001b[39m [sentence\u001b[38;5;241m.\u001b[39mlower() \u001b[38;5;28;01mfor\u001b[39;00m sentence \u001b[38;5;129;01min\u001b[39;00m sentences \u001b[38;5;28;01mif\u001b[39;00m sentence\u001b[38;5;241m.\u001b[39misalpha()]\n\u001b[1;32m      8\u001b[0m     corpus\u001b[38;5;241m.\u001b[39mappend(sentences)\n",
      "File \u001b[0;32m~/Developer/nlp-a1-similar-context/.venv/lib/python3.12/site-packages/nltk/corpus/reader/api.py:406\u001b[0m, in \u001b[0;36mCategorizedCorpusReader.words\u001b[0;34m(self, fileids, categories)\u001b[0m\n\u001b[1;32m    405\u001b[0m \u001b[38;5;28;01mdef\u001b[39;00m\u001b[38;5;250m \u001b[39m\u001b[38;5;21mwords\u001b[39m(\u001b[38;5;28mself\u001b[39m, fileids\u001b[38;5;241m=\u001b[39m\u001b[38;5;28;01mNone\u001b[39;00m, categories\u001b[38;5;241m=\u001b[39m\u001b[38;5;28;01mNone\u001b[39;00m):\n\u001b[0;32m--> 406\u001b[0m     \u001b[38;5;28;01mreturn\u001b[39;00m \u001b[38;5;28;43msuper\u001b[39;49m\u001b[43m(\u001b[49m\u001b[43m)\u001b[49m\u001b[38;5;241;43m.\u001b[39;49m\u001b[43mwords\u001b[49m\u001b[43m(\u001b[49m\u001b[38;5;28;43mself\u001b[39;49m\u001b[38;5;241;43m.\u001b[39;49m\u001b[43m_resolve\u001b[49m\u001b[43m(\u001b[49m\u001b[43mfileids\u001b[49m\u001b[43m,\u001b[49m\u001b[43m \u001b[49m\u001b[43mcategories\u001b[49m\u001b[43m)\u001b[49m\u001b[43m)\u001b[49m\n",
      "File \u001b[0;32m~/Developer/nlp-a1-similar-context/.venv/lib/python3.12/site-packages/nltk/corpus/reader/plaintext.py:76\u001b[0m, in \u001b[0;36mPlaintextCorpusReader.words\u001b[0;34m(self, fileids)\u001b[0m\n\u001b[1;32m     67\u001b[0m \u001b[38;5;28;01mdef\u001b[39;00m\u001b[38;5;250m \u001b[39m\u001b[38;5;21mwords\u001b[39m(\u001b[38;5;28mself\u001b[39m, fileids\u001b[38;5;241m=\u001b[39m\u001b[38;5;28;01mNone\u001b[39;00m):\n\u001b[1;32m     68\u001b[0m \u001b[38;5;250m    \u001b[39m\u001b[38;5;124;03m\"\"\"\u001b[39;00m\n\u001b[1;32m     69\u001b[0m \u001b[38;5;124;03m    :return: the given file(s) as a list of words\u001b[39;00m\n\u001b[1;32m     70\u001b[0m \u001b[38;5;124;03m        and punctuation symbols.\u001b[39;00m\n\u001b[1;32m     71\u001b[0m \u001b[38;5;124;03m    :rtype: list(str)\u001b[39;00m\n\u001b[1;32m     72\u001b[0m \u001b[38;5;124;03m    \"\"\"\u001b[39;00m\n\u001b[1;32m     73\u001b[0m     \u001b[38;5;28;01mreturn\u001b[39;00m concat(\n\u001b[1;32m     74\u001b[0m         [\n\u001b[1;32m     75\u001b[0m             \u001b[38;5;28mself\u001b[39m\u001b[38;5;241m.\u001b[39mCorpusView(path, \u001b[38;5;28mself\u001b[39m\u001b[38;5;241m.\u001b[39m_read_word_block, encoding\u001b[38;5;241m=\u001b[39menc)\n\u001b[0;32m---> 76\u001b[0m             \u001b[38;5;28;01mfor\u001b[39;00m (path, enc, fileid) \u001b[38;5;129;01min\u001b[39;00m \u001b[38;5;28;43mself\u001b[39;49m\u001b[38;5;241;43m.\u001b[39;49m\u001b[43mabspaths\u001b[49m\u001b[43m(\u001b[49m\u001b[43mfileids\u001b[49m\u001b[43m,\u001b[49m\u001b[43m \u001b[49m\u001b[38;5;28;43;01mTrue\u001b[39;49;00m\u001b[43m,\u001b[49m\u001b[43m \u001b[49m\u001b[38;5;28;43;01mTrue\u001b[39;49;00m\u001b[43m)\u001b[49m\n\u001b[1;32m     77\u001b[0m         ]\n\u001b[1;32m     78\u001b[0m     )\n",
      "File \u001b[0;32m~/Developer/nlp-a1-similar-context/.venv/lib/python3.12/site-packages/nltk/corpus/reader/api.py:195\u001b[0m, in \u001b[0;36mCorpusReader.abspaths\u001b[0;34m(self, fileids, include_encoding, include_fileid)\u001b[0m\n\u001b[1;32m    192\u001b[0m \u001b[38;5;28;01melif\u001b[39;00m \u001b[38;5;28misinstance\u001b[39m(fileids, \u001b[38;5;28mstr\u001b[39m):\n\u001b[1;32m    193\u001b[0m     fileids \u001b[38;5;241m=\u001b[39m [fileids]\n\u001b[0;32m--> 195\u001b[0m paths \u001b[38;5;241m=\u001b[39m [\u001b[38;5;28mself\u001b[39m\u001b[38;5;241m.\u001b[39m_root\u001b[38;5;241m.\u001b[39mjoin(f) \u001b[38;5;28;01mfor\u001b[39;00m f \u001b[38;5;129;01min\u001b[39;00m fileids]\n\u001b[1;32m    197\u001b[0m \u001b[38;5;28;01mif\u001b[39;00m include_encoding \u001b[38;5;129;01mand\u001b[39;00m include_fileid:\n\u001b[1;32m    198\u001b[0m     \u001b[38;5;28;01mreturn\u001b[39;00m \u001b[38;5;28mlist\u001b[39m(\u001b[38;5;28mzip\u001b[39m(paths, [\u001b[38;5;28mself\u001b[39m\u001b[38;5;241m.\u001b[39mencoding(f) \u001b[38;5;28;01mfor\u001b[39;00m f \u001b[38;5;129;01min\u001b[39;00m fileids], fileids))\n",
      "\u001b[0;31mTypeError\u001b[0m: 'int' object is not iterable"
     ]
    }
   ],
   "source": [
    "def build_corpus():\n",
    "    corpus = []\n",
    "\n",
    "    for id in reuters.fileids():\n",
    "        sentences = reuters.words(id)\n",
    "        sentences = [sentence.lower() for sentence in sentences if sentence.isalpha()]\n",
    "        corpus.append(sentences)\n",
    "\n",
    "    return corpus\n",
    "\n",
    "\n",
    "corpus = build_corpus()\n",
    "print(f\"Sentences in the corpus: {len(corpus)}\")\n",
    "print(f\"Words in the corpus: {sum(len(sentence) for sentence in corpus)}\")"
   ]
  },
  {
   "cell_type": "code",
   "execution_count": 129,
   "metadata": {},
   "outputs": [
    {
     "name": "stdout",
     "output_type": "stream",
     "text": [
      "Total number of unique words in the corpus: 2310\n"
     ]
    }
   ],
   "source": [
    "def build_vocab(corpus):\n",
    "    # Flatten words from all sentences\n",
    "    flatten_words = [word for sentence in corpus for word in sentence]\n",
    "    word_counts = Counter(flatten_words)\n",
    "\n",
    "    # Unique words\n",
    "    vocab = list(set(flatten_words))\n",
    "    vocab.append(\"<UNKNOWN>\")\n",
    "\n",
    "    word2index = {word: index for index, word in enumerate(vocab)}\n",
    "    word2index[\"<UNKNOWN>\"] = 0\n",
    "    word2index\n",
    "\n",
    "    return vocab, len(vocab), word2index, word_counts\n",
    "\n",
    "\n",
    "all_vocabs, vocab_size, word2index, word_counts = build_vocab(corpus)\n",
    "print(f\"Unique words in the corpus: {vocab_size}\")"
   ]
  },
  {
   "cell_type": "code",
   "execution_count": 130,
   "metadata": {},
   "outputs": [
    {
     "name": "stdout",
     "output_type": "stream",
     "text": [
      "Total number of skip-gram pairs from corpus: 42564\n"
     ]
    }
   ],
   "source": [
    "def build_skipgrams(corpus, word2index, window_size=2):\n",
    "    \"\"\"\n",
    "    Generate skip-gram pairs from corpus\n",
    "    \"\"\"\n",
    "    skip_grams = []\n",
    "\n",
    "    for sentence in corpus:\n",
    "        for position, center_word in enumerate(sentence):\n",
    "            center_index = word2index[center_word]\n",
    "            context_indices = list(\n",
    "                [\n",
    "                    i\n",
    "                    for i in range(\n",
    "                        max(\n",
    "                            position - window_size, 0\n",
    "                        ),  # Context words on the left. If none, then 0\n",
    "                        min(\n",
    "                            position + window_size + 1, len(sentence)\n",
    "                        ),  # Context words on the right, If none, then 0\n",
    "                    )\n",
    "                    if i != position  # Exclude itself\n",
    "                ]\n",
    "            )\n",
    "            for index in context_indices:\n",
    "                context_word = sentence[index]\n",
    "                context_index = word2index[context_word]\n",
    "                skip_grams.append(\n",
    "                    (center_index, context_index)\n",
    "                )  # A tuple representing a skip-gram pair\n",
    "\n",
    "    return skip_grams\n",
    "\n",
    "\n",
    "skip_grams = build_skipgrams(corpus, word2index, window_size=2)\n",
    "print(f\"Skip-gram pairs from corpus: {len(skip_grams)}\")"
   ]
  },
  {
   "cell_type": "code",
   "execution_count": 131,
   "metadata": {},
   "outputs": [],
   "source": [
    "def build_unigram_table(word_counts, power=0.75):\n",
    "    total_count = sum([count for count in word_counts.values()])\n",
    "    unigram_table = []\n",
    "    for word, count in word_counts.items():\n",
    "        score = (count / total_count) ** power\n",
    "        unigram_table.extend([word] * int(score * 1e6))\n",
    "    return unigram_table\n",
    "\n",
    "\n",
    "unigram_table = build_unigram_table(word_counts)"
   ]
  },
  {
   "cell_type": "code",
   "execution_count": 132,
   "metadata": {},
   "outputs": [],
   "source": [
    "def to_number_sequence(all_vocabs, word2index):\n",
    "    \"\"\"\n",
    "    Convert a sequence of words into a sequence of numerical indices\n",
    "    \"\"\"\n",
    "    indices = list(\n",
    "        map(  # Apply lambda function to each word in all_vocabs\n",
    "            lambda w: word2index[w] if word2index.get(w) is not None else word2index[\"<UNKNOWN>\"],\n",
    "            all_vocabs,\n",
    "        )\n",
    "    )\n",
    "    return torch.LongTensor(indices)  # List of indices is converted to PyTorch tensor"
   ]
  },
  {
   "cell_type": "code",
   "execution_count": 133,
   "metadata": {},
   "outputs": [],
   "source": [
    "class Skipgram(nn.Module):  # nn.Module is the base class for all neural network modules in PyTorch\n",
    "\n",
    "    def __init__(self, vocab_size, embed_size, mode=\"softmax\"):\n",
    "        super(Skipgram, self).__init__()\n",
    "        self.mode = mode\n",
    "        self.embedding_v = nn.Embedding(vocab_size, embed_size)\n",
    "        self.embedding_u = nn.Embedding(vocab_size, embed_size)\n",
    "\n",
    "    def forward(self, center_words, target_words, all_vocabs, negative_vocabs=None):\n",
    "        # Create embedding vectors for center words, target words, and all words\n",
    "        center_embeds = self.embedding_v(center_words)\n",
    "        target_embeds = self.embedding_u(target_words)\n",
    "        all_embeds = self.embedding_u(all_vocabs)\n",
    "\n",
    "        if self.mode == \"softmax\":\n",
    "            # Dot product between the embeddings of the center word and the context word is computed.\n",
    "            # This measures how similar the center word is to the context word.\n",
    "            scores = target_embeds.bmm(center_embeds.transpose(1, 2)).squeeze(2)\n",
    "\n",
    "            # Dot product between the embeddings of the center word and all words in the vocabulary is computed.\n",
    "            # This is used to normalize the scores across the entire vocabulary (denominator in the softmax function).\n",
    "            norm_scores = all_embeds.bmm(center_embeds.transpose(1, 2)).squeeze(2)\n",
    "\n",
    "            # Negative log of the softmax probability is taken. This is the loss for a single prediction.\n",
    "            # The overall loss is the average of these values across all predictions in the batch.\n",
    "            negative_log_likelihood = (-1) * (\n",
    "                torch.mean(\n",
    "                    torch.log(torch.exp(scores) / torch.sum(torch.exp(norm_scores), 1).unsqueeze(1))\n",
    "                )\n",
    "            )\n",
    "        elif self.mode == \"negative_sampling\":\n",
    "            negative_log_likelihood = 0\n",
    "\n",
    "        return negative_log_likelihood\n",
    "\n",
    "    def get_embedding(self, word_index):\n",
    "        return self.embedding_v(torch.LongTensor([word_index])).detach().cpu().numpy()"
   ]
  },
  {
   "cell_type": "code",
   "execution_count": 134,
   "metadata": {},
   "outputs": [],
   "source": [
    "def train_skipgrams(mode, skip_grams, all_vocabs, vocab_size):\n",
    "    if mode not in [\"softmax\", \"negative_sampling\"]:\n",
    "        raise ValueError(\"Invalid mode.\")\n",
    "\n",
    "    # Hyperparameters\n",
    "    batch_size = 2\n",
    "    embed_size = 100\n",
    "    epochs = 10\n",
    "\n",
    "    # Model and Optimizer\n",
    "    model = Skipgram(vocab_size=vocab_size, embed_size=embed_size, mode=mode)\n",
    "    optimizer = optim.Adam(model.parameters(), lr=0.001)\n",
    "\n",
    "    # Convert all_vocabs (list -> tensor) and expands it to match the batch size\n",
    "    all_vocabs = to_number_sequence(all_vocabs, word2index).expand(batch_size, vocab_size)\n",
    "\n",
    "    all_losses = []\n",
    "\n",
    "    # Training loop\n",
    "    for epoch in range(epochs):\n",
    "        epoch_loss = []  # Loss for each epoch\n",
    "        start_time = time.time()\n",
    "\n",
    "        # Shuffle the skip_grams every epoch\n",
    "        random.shuffle(skip_grams)\n",
    "\n",
    "        for i in range(0, len(skip_grams), batch_size):\n",
    "            current_batch = skip_grams[i : i + batch_size]\n",
    "\n",
    "            if len(current_batch) == 0:\n",
    "                continue\n",
    "\n",
    "            # Unpack current_batch by splitting into two variables\n",
    "            # center_words = all first elements from each pair\n",
    "            # target_words = all second elements from each pair\n",
    "            center_words, target_words = zip(*current_batch)\n",
    "\n",
    "            # Convert from tuples to 2D numpy arrays\n",
    "            center_words = np.array(center_words).reshape(-1, 1)\n",
    "            target_words = np.array(target_words).reshape(-1, 1)\n",
    "\n",
    "            # Convert from 2D numpy arrays to tensors\n",
    "            center_words = torch.LongTensor(center_words)\n",
    "            target_words = torch.LongTensor(target_words)\n",
    "\n",
    "            # Reset the gradients\n",
    "            optimizer.zero_grad()\n",
    "\n",
    "            if mode == \"softmax\":\n",
    "                # Computes the loss using model's forward method\n",
    "                loss = model(center_words, target_words, all_vocabs)\n",
    "                # Backpropagate the loss\n",
    "                loss.backward()\n",
    "                # Updates model parameters\n",
    "                optimizer.step()\n",
    "\n",
    "            epoch_loss.append(loss.item())\n",
    "\n",
    "            elapsed_time = time.time() - start_time\n",
    "\n",
    "        print(f\"Epoch {epoch + 1}: | Loss: {np.mean(epoch_loss)} | Time: {elapsed_time}\")\n",
    "        all_losses.append(np.mean(epoch_loss))\n",
    "\n",
    "    return model, np.mean(all_losses)"
   ]
  },
  {
   "cell_type": "code",
   "execution_count": 135,
   "metadata": {},
   "outputs": [
    {
     "name": "stdout",
     "output_type": "stream",
     "text": [
      "Epoch 1: | Loss: 19.824527898063092 | Time: 41.58912491798401\n",
      "Epoch 2: | Loss: 11.084571089503482 | Time: 30.669898986816406\n",
      "Epoch 3: | Loss: 8.035586548897907 | Time: 31.426357984542847\n",
      "Epoch 4: | Loss: 6.6818155913735655 | Time: 30.064568996429443\n",
      "Epoch 5: | Loss: 6.066891658808569 | Time: 30.55736804008484\n",
      "Epoch 6: | Loss: 5.788920190810217 | Time: 30.238488912582397\n",
      "Epoch 7: | Loss: 5.651778170501992 | Time: 30.588644981384277\n",
      "Epoch 8: | Loss: 5.582772236870886 | Time: 35.20352387428284\n",
      "Epoch 9: | Loss: 5.537579342858727 | Time: 31.823539972305298\n",
      "Epoch 10: | Loss: 5.503751964724139 | Time: 26.91148281097412\n"
     ]
    }
   ],
   "source": [
    "model_sm, avg_loss_sm = train_skipgrams(\n",
    "    mode=\"softmax\", skip_grams=skip_grams, all_vocabs=all_vocabs, vocab_size=len(all_vocabs)\n",
    ")"
   ]
  },
  {
   "cell_type": "markdown",
   "metadata": {},
   "source": [
    "# Plot\n"
   ]
  },
  {
   "cell_type": "code",
   "execution_count": 136,
   "metadata": {},
   "outputs": [
    {
     "data": {
      "image/png": "[encoded data removed]",
      "text/plain": [
       "<Figure size 600x300 with 1 Axes>"
      ]
     },
     "metadata": {},
     "output_type": "display_data"
    }
   ],
   "source": [
    "def get_embed(word):\n",
    "    id_tensor = torch.LongTensor([word2index[word]])\n",
    "    v_embed = model_sm.embedding_v(id_tensor)\n",
    "    u_embed = model_sm.embedding_u(id_tensor)\n",
    "    word_embed = (v_embed + u_embed) / 2\n",
    "    x, y = word_embed[0][0].item(), word_embed[0][1].item()\n",
    "\n",
    "    return x, y\n",
    "\n",
    "\n",
    "import matplotlib.pyplot as plt\n",
    "\n",
    "plt.figure(figsize=(6, 3))\n",
    "for i, word in enumerate(all_vocabs[:20]):  # loop each unique vocab\n",
    "    x, y = get_embed(word)\n",
    "    plt.scatter(x, y)\n",
    "    plt.annotate(word, xy=(x, y), xytext=(5, 2), textcoords=\"offset points\")\n",
    "plt.show()"
   ]
  },
  {
   "cell_type": "code",
   "execution_count": 137,
   "metadata": {},
   "outputs": [],
   "source": [
    "def evaluate_analogies(model, analogy_file, word2index):\n",
    "    semantic_correct = 0\n",
    "    semantic_total = 0\n",
    "    syntactic_correct = 0\n",
    "    syntactic_total = 0\n",
    "\n",
    "    index2word = {val: key for key, val in word2index.items()}\n",
    "\n",
    "    section = None\n",
    "\n",
    "    with open(analogy_file, \"r\") as f:\n",
    "        # Lines starting with \":\" indicate a new section\n",
    "        for line in f:\n",
    "            if line.startswith(\":\"):\n",
    "                section = line.strip()[1:].lower()\n",
    "                continue\n",
    "\n",
    "            words_in_line = line.strip().lower().split()  # Split each line into words\n",
    "            if all(\n",
    "                word in word2index for word in words_in_line\n",
    "            ):  # All words must be present in word2index\n",
    "                first_word, second_word, third_word, expected_word = words_in_line\n",
    "                first_word_emb = model.get_embedding(word2index[first_word])\n",
    "                second_word_vec = model.get_embedding(word2index[second_word])\n",
    "                third_word_vec = model.get_embedding(word2index[third_word])\n",
    "\n",
    "                # Finds the word in the vocabulary whose embedding is closest to the predicted vector\n",
    "                predicted_idx = np.argmax(\n",
    "                    np.dot(\n",
    "                        model.embedding_v.weight.detach().cpu().numpy(),\n",
    "                        (second_word_vec - first_word_emb + third_word_vec).T,\n",
    "                    )\n",
    "                )\n",
    "\n",
    "                # Retrieve word using predicted index\n",
    "                predicted_word = index2word[predicted_idx]\n",
    "\n",
    "                if section == \"capital-common-countries\":\n",
    "                    semantic_total += 1\n",
    "                    if predicted_word == expected_word:\n",
    "                        semantic_correct += 1\n",
    "\n",
    "                elif section == \"past-tense\":\n",
    "                    syntactic_total += 1\n",
    "                    if predicted_word == expected_word:\n",
    "                        syntactic_correct += 1\n",
    "\n",
    "    # Accuracy ratio\n",
    "    semantic_accuracy = semantic_correct / semantic_total if semantic_total > 0 else 0\n",
    "    syntactic_accuracy = syntactic_correct / syntactic_total if syntactic_total > 0 else 0\n",
    "\n",
    "    print(f\"Semantic Accuracy: {semantic_accuracy:.4f}\")\n",
    "    print(f\"Syntactic Accuracy: {syntactic_accuracy:.4f}\")\n",
    "\n",
    "    return semantic_accuracy, syntactic_accuracy"
   ]
  },
  {
   "cell_type": "code",
   "execution_count": 138,
   "metadata": {},
   "outputs": [
    {
     "name": "stdout",
     "output_type": "stream",
     "text": [
      "Semantic Accuracy: 0.0000\n",
      "Syntactic Accuracy: 0.0000\n"
     ]
    },
    {
     "data": {
      "text/plain": [
       "(0, 0)"
      ]
     },
     "execution_count": 138,
     "metadata": {},
     "output_type": "execute_result"
    }
   ],
   "source": [
    "analogy_file = \"Data/word-test.v1.txt\"\n",
    "\n",
    "evaluate_analogies(model_sm, analogy_file, word2index)"
   ]
  },
  {
   "cell_type": "code",
   "execution_count": 140,
   "metadata": {},
   "outputs": [],
   "source": [
    "def evaluate_similarities(model, similarity_file, word2index):\n",
    "    \"\"\"Evaluate similarity correlation using Spearman correlation.\"\"\"\n",
    "    human_scores = []\n",
    "    model_scores = []\n",
    "\n",
    "    with open(similarity_file, \"r\") as f:\n",
    "        for line in f:\n",
    "            word1, word2, human_score = line.strip().split()\n",
    "            if word1 in word2index and word2 in word2index:\n",
    "                word1_vec = model.get_embedding(word2index[word1]).squeeze()\n",
    "                word2_vec = model.get_embedding(word2index[word2]).squeeze()\n",
    "\n",
    "                model_score = np.dot(word1_vec, word2_vec)\n",
    "                human_scores.append(float(human_score))\n",
    "                model_scores.append(model_score)\n",
    "\n",
    "    correlation, _ = spearmanr(human_scores, model_scores)\n",
    "    print(f\"Spearman Correlation: {correlation:.4f}\")\n",
    "\n",
    "    mse = np.mean((np.array(human_scores) - np.array(model_scores)) ** 2)\n",
    "\n",
    "    return human_scores, model_scores, correlation, mse "
   ]
  },
  {
   "cell_type": "code",
   "execution_count": null,
   "metadata": {},
   "outputs": [],
   "source": []
  }
 ],
 "metadata": {
  "kernelspec": {
   "display_name": ".venv",
   "language": "python",
   "name": "python3"
  },
  "language_info": {
   "codemirror_mode": {
    "name": "ipython",
    "version": 3
   },
   "file_extension": ".py",
   "mimetype": "text/x-python",
   "name": "python",
   "nbconvert_exporter": "python",
   "pygments_lexer": "ipython3",
   "version": "3.12.8"
  }
 },
 "nbformat": 4,
 "nbformat_minor": 2
}
